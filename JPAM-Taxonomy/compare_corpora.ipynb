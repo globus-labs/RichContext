{
 "cells": [
  {
   "cell_type": "markdown",
   "metadata": {},
   "source": [
    "# Imports"
   ]
  },
  {
   "cell_type": "code",
   "execution_count": 13,
   "metadata": {},
   "outputs": [],
   "source": [
    "from collections import defaultdict\n",
    "\n",
    "from gensim.corpora import BleiCorpus, Dictionary\n",
    "from gensim.models import LdaModel\n",
    "from gensim.matutils import argsort,sparse2full\n",
    "\n",
    "import json\n",
    "\n",
    "import matplotlib\n",
    "from matplotlib import pyplot as plt\n",
    "\n",
    "import numpy as np\n",
    "import networkx as nx\n",
    "\n",
    "import os\n",
    "\n",
    "import pickle\n",
    "\n",
    "from scipy.cluster.hierarchy import dendrogram, linkage\n",
    "from scipy.spatial.distance import pdist, squareform\n",
    "from scipy.stats import gaussian_kde\n",
    "\n",
    "import seaborn as sns\n",
    "\n",
    "from sklearn.ensemble import RandomForestClassifier\n",
    "from sklearn.cross_validation import ShuffleSplit\n",
    "from sklearn.linear_model import RandomizedLasso\n",
    "from sklearn.metrics import r2_score, f1_score\n",
    "from sklearn.preprocessing import LabelEncoder\n",
    "\n",
    "from statsmodels.nonparametric.kde import KDEUnivariate\n",
    "\n",
    "import wiki\n",
    "\n",
    "matplotlib.style.use(\"ggplot\")"
   ]
  },
  {
   "cell_type": "markdown",
   "metadata": {},
   "source": [
    "# Loading the data"
   ]
  },
  {
   "cell_type": "code",
   "execution_count": 2,
   "metadata": {
    "collapsed": true
   },
   "outputs": [],
   "source": [
    "all_corpora = json.load(open(\"all_corpora.json\"))"
   ]
  },
  {
   "cell_type": "code",
   "execution_count": 3,
   "metadata": {
    "collapsed": true
   },
   "outputs": [],
   "source": [
    "id2word = Dictionary.load(\"all_corpora.dict\")\n",
    "model = LdaModel.load(\"lda_models/lda_all_corpora_150topics_50passes\")\n",
    "model.dictionary = id2word"
   ]
  },
  {
   "cell_type": "code",
   "execution_count": 4,
   "metadata": {
    "collapsed": true
   },
   "outputs": [],
   "source": [
    "topic_colors = sns.color_palette(\"hls\", model.num_topics)"
   ]
  },
  {
   "cell_type": "code",
   "execution_count": 5,
   "metadata": {
    "collapsed": true
   },
   "outputs": [],
   "source": [
    "all_corpora = {\n",
    "    name: id2word.doc2bow(doc) \n",
    "    for name, doc in all_corpora.items()\n",
    "}"
   ]
  },
  {
   "cell_type": "code",
   "execution_count": 6,
   "metadata": {
    "collapsed": true
   },
   "outputs": [],
   "source": [
    "# Filter noise\n",
    "noise_topics = [24, 35, 53, 67, 88, 102, 115, 129, 139]"
   ]
  },
  {
   "cell_type": "markdown",
   "metadata": {},
   "source": [
    "# Splitting corpora"
   ]
  },
  {
   "cell_type": "code",
   "execution_count": 7,
   "metadata": {
    "collapsed": true
   },
   "outputs": [],
   "source": [
    "jpam_corpus = {\n",
    "    name: bow\n",
    "    for name, bow in all_corpora.items()\n",
    "    if \"all_texts/jpam_texts/\" in name\n",
    "}\n",
    "\n",
    "jpart_corpus = {\n",
    "    name: bow\n",
    "    for name, bow in all_corpora.items()\n",
    "        if \"all_texts/jpart_texts/\" in name\n",
    "}\n",
    "\n",
    "par_corpus = {\n",
    "    name: bow\n",
    "    for name, bow in all_corpora.items()\n",
    "    if \"all_texts/par_texts/\" in name\n",
    "}"
   ]
  },
  {
   "cell_type": "code",
   "execution_count": 10,
   "metadata": {
    "collapsed": true
   },
   "outputs": [],
   "source": [
    "jpam_doi_to_vec = {\n",
    "    os.path.splitext(os.path.split(name)[1])[0]: sparse2full(model[bow], model.num_topics)\n",
    "    for name, bow in jpam_corpus.items()\n",
    "}"
   ]
  },
  {
   "cell_type": "code",
   "execution_count": 14,
   "metadata": {},
   "outputs": [],
   "source": [
    "jpam_doi_to_vec = {\n",
    "    doi: vec.tolist()\n",
    "    for doi, vec in jpam_doi_to_vec.items()\n",
    "}\n",
    "\n",
    "json.dump(jpam_doi_to_vec, open(\"jpam_doi_to_150vec.json\", \"w\"))"
   ]
  },
  {
   "cell_type": "markdown",
   "metadata": {},
   "source": [
    "# Nearest Neighbors"
   ]
  },
  {
   "cell_type": "code",
   "execution_count": 8,
   "metadata": {
    "collapsed": true
   },
   "outputs": [],
   "source": [
    "K = 3"
   ]
  },
  {
   "cell_type": "code",
   "execution_count": 9,
   "metadata": {
    "collapsed": true
   },
   "outputs": [],
   "source": [
    "jpam_vectors = {\n",
    "    name: sparse2full(model[bow], model.num_topics)\n",
    "    for name, bow in jpam_corpus.items()\n",
    "}\n",
    "\n",
    "jpart_vectors = {\n",
    "    name: sparse2full(model[bow], model.num_topics)\n",
    "    for name, bow in jpart_corpus.items()\n",
    "}\n",
    "\n",
    "par_vectors = {\n",
    "    name: sparse2full(model[bow], model.num_topics)\n",
    "    for name, bow in par_corpus.items()\n",
    "}"
   ]
  },
  {
   "cell_type": "code",
   "execution_count": 10,
   "metadata": {
    "collapsed": true
   },
   "outputs": [],
   "source": [
    "jpam_names, jpam_vecs = zip(*jpam_vectors.items())\n",
    "jpart_names, jpart_vecs = zip(*jpart_vectors.items())\n",
    "par_names, par_vecs = zip(*par_vectors.items())"
   ]
  },
  {
   "cell_type": "code",
   "execution_count": 11,
   "metadata": {
    "collapsed": true
   },
   "outputs": [],
   "source": [
    "all_names = list(jpam_names) + list(jpart_names) + list(par_names)\n",
    "all_vecs = list(jpam_vecs) + list(jpart_vecs) + list(par_vecs)"
   ]
  },
  {
   "cell_type": "code",
   "execution_count": 12,
   "metadata": {
    "collapsed": true
   },
   "outputs": [],
   "source": [
    "all_vecs = np.array(all_vecs)\n",
    "paper_distances = pdist(all_vecs, metric=\"cosine\")\n",
    "paper_distances = squareform(paper_distances)"
   ]
  },
  {
   "cell_type": "markdown",
   "metadata": {},
   "source": [
    "### Fixed count"
   ]
  },
  {
   "cell_type": "code",
   "execution_count": 164,
   "metadata": {
    "collapsed": true
   },
   "outputs": [],
   "source": [
    "paper_numeric = paper_distances.argsort()[:, :K]\n",
    "paper_neighbors = paper_numeric"
   ]
  },
  {
   "cell_type": "code",
   "execution_count": 165,
   "metadata": {
    "collapsed": true
   },
   "outputs": [],
   "source": [
    "GNN = nx.Graph()\n",
    "jpam_nodes = [i for i, name in enumerate(all_names) if name in jpam_names]\n",
    "jpart_nodes = [i for i, name in enumerate(all_names) if name in jpart_names]\n",
    "par_nodes = [i for i, name in enumerate(all_names) if name in par_names]\n",
    "for neighborhood in paper_numeric:\n",
    "    n1 = neighborhood[0]\n",
    "    for i in range(1, K):\n",
    "        n2 = neighborhood[i]\n",
    "        GNN.add_edge(n1, n2, weight=paper_distances[n1][n2])"
   ]
  },
  {
   "cell_type": "code",
   "execution_count": 166,
   "metadata": {
    "collapsed": true
   },
   "outputs": [],
   "source": [
    "pos = nx.spring_layout(GNN)"
   ]
  },
  {
   "cell_type": "code",
   "execution_count": null,
   "metadata": {
    "collapsed": true
   },
   "outputs": [],
   "source": [
    "paper_neighbors"
   ]
  },
  {
   "cell_type": "code",
   "execution_count": 167,
   "metadata": {
    "collapsed": true
   },
   "outputs": [],
   "source": [
    "fig, ax = plt.subplots(figsize=(50, 50))\n",
    "nx.draw_networkx_nodes(GNN, pos, nodelist=jpam_nodes, node_color='b', alpha=0.5)\n",
    "nx.draw_networkx_nodes(GNN, pos, nodelist=jpart_nodes, node_color='r', alpha=0.5)\n",
    "nx.draw_networkx_nodes(GNN, pos, nodelist=par_nodes, node_color='g', alpha=0.5)\n",
    "nx.draw_networkx_edges(GNN, pos)\n",
    "plt.suptitle(\"Papers linked by \")\n",
    "plt.savefig('paper_distances.png')"
   ]
  },
  {
   "cell_type": "markdown",
   "metadata": {},
   "source": [
    "### Threshold"
   ]
  },
  {
   "cell_type": "code",
   "execution_count": 168,
   "metadata": {
    "collapsed": true
   },
   "outputs": [],
   "source": [
    "edge_threshold = 0.15"
   ]
  },
  {
   "cell_type": "code",
   "execution_count": 169,
   "metadata": {
    "collapsed": true
   },
   "outputs": [],
   "source": [
    "GTN = nx.from_numpy_matrix(paper_distances)"
   ]
  },
  {
   "cell_type": "code",
   "execution_count": 170,
   "metadata": {
    "collapsed": true
   },
   "outputs": [],
   "source": [
    "orig_edges = GTN.edges()"
   ]
  },
  {
   "cell_type": "code",
   "execution_count": 171,
   "metadata": {
    "collapsed": true
   },
   "outputs": [],
   "source": [
    "orig_nodes = GTN.nodes()"
   ]
  },
  {
   "cell_type": "code",
   "execution_count": 172,
   "metadata": {
    "collapsed": true
   },
   "outputs": [],
   "source": [
    "GTN.remove_edges_from([\n",
    "    edge for edge in GTN.edges()\n",
    "    if GTN.get_edge_data(*edge)['weight'] > edge_threshold\n",
    "])\n",
    "GTN.remove_nodes_from([\n",
    "    node for node in GTN.nodes()\n",
    "    if len(GTN.neighbors(node)) == 0\n",
    "])\n",
    "fjpam_nodes = [n for n in jpam_nodes if GTN.has_node(n)]\n",
    "fjpart_nodes = [n for n in jpart_nodes if GTN.has_node(n)]\n",
    "fpar_nodes = [n for n in par_nodes if GTN.has_node(n)]"
   ]
  },
  {
   "cell_type": "code",
   "execution_count": 173,
   "metadata": {
    "collapsed": true
   },
   "outputs": [],
   "source": [
    "pos_thresh = nx.spring_layout(GTN)"
   ]
  },
  {
   "cell_type": "code",
   "execution_count": 195,
   "metadata": {
    "collapsed": true
   },
   "outputs": [],
   "source": [
    "fig, ax = plt.subplots(figsize=(50, 50))\n",
    "edge_weights = [GTN.get_edge_data(*edge)[\"weight\"] for edge in GTN.edges()]\n",
    "max_edge_weight = max(edge_weights)\n",
    "min_edge_weight = min(edge_weights)\n",
    "range_edge_weight = max_edge_weight - min_edge_weight\n",
    "edge_colors = [\n",
    "    ((max_edge_weight - GTN.get_edge_data(*edge)[\"weight\"])/ range_edge_weight,) * 3\n",
    "    for edge in GTN.edges()\n",
    "]\n",
    "nodes_by_topic = defaultdict(list)\n",
    "for node in GTN.nodes():\n",
    "    vec = all_vecs[node]\n",
    "    top_topic = vec.argsort()[-1]\n",
    "    nodes_by_topic[top_topic].append(node)\n",
    "\n",
    "for topic_num in range(model.num_topics):\n",
    "    nx.draw_networkx_nodes(GTN, pos_thresh, nodelist=nodes_by_topic[topic_num], alpha=0.75, node_color=topic_colors[topic_num])\n",
    "# nx.draw_networkx_nodes(GTN, pos_thresh, nodelist=fjpam_nodes, alpha=0.75, node_color='b')\n",
    "# nx.draw_networkx_nodes(GTN, pos_thresh, nodelist=fjpart_nodes, alpha=0.75, node_color='r')\n",
    "# nx.draw_networkx_nodes(GTN, pos_thresh, nodelist=fpar_nodes, alpha=0.75, node_color='k')\n",
    "nx.draw_networkx_edges(GTN, pos_thresh, edge_color=edge_colors) \n",
    "ax.grid(b=False)\n",
    "ax.margins(0)\n",
    "fig.suptitle(\"Papers linked by close neighbors, colored by topic\", fontsize=48)\n",
    "fig.tight_layout()\n",
    "plt.savefig('paper_dist_thresh_tcolor.png')"
   ]
  },
  {
   "cell_type": "markdown",
   "metadata": {},
   "source": [
    "# Kernel Densities"
   ]
  },
  {
   "cell_type": "code",
   "execution_count": 176,
   "metadata": {},
   "outputs": [
    {
     "data": {
      "text/plain": [
       "array([ 0.        ,  0.        ,  0.05433092, ...,  0.        ,\n",
       "        0.        ,  0.        ], dtype=float32)"
      ]
     },
     "execution_count": 176,
     "metadata": {},
     "output_type": "execute_result"
    }
   ],
   "source": [
    "all_vecs[:, 0]"
   ]
  },
  {
   "cell_type": "code",
   "execution_count": 179,
   "metadata": {
    "collapsed": true,
    "scrolled": false
   },
   "outputs": [],
   "source": [
    "fig, axes = plt.subplots((model.num_topics // 4) + 1, 4, figsize=(60, 100), facecolor=\"w\", edgecolor=\"k\")\n",
    "# fig.set_size_inches(12, 16)\n",
    "fig.subplots_adjust(hspace=0.5, wspace=.1)\n",
    "axes = axes.ravel()\n",
    "for topic_num in range(model.num_topics):\n",
    "    ax = axes[topic_num]\n",
    "    ax.hist(all_vecs[:, topic_num], bins=20)\n",
    "plt.savefig(\"kde.png\")\n",
    "# plt.show()"
   ]
  },
  {
   "cell_type": "markdown",
   "metadata": {},
   "source": [
    "# Dendrogram + Continualizing Topics"
   ]
  },
  {
   "cell_type": "code",
   "execution_count": null,
   "metadata": {
    "collapsed": true
   },
   "outputs": [],
   "source": []
  },
  {
   "cell_type": "code",
   "execution_count": 13,
   "metadata": {
    "collapsed": true,
    "scrolled": false
   },
   "outputs": [],
   "source": [
    "topic_term = model.state.get_lambda()\n",
    "distances = pdist(topic_term, metric='cosine')\n",
    "Z = linkage(distances, \"ward\")\n",
    "\n",
    "fig = plt.figure(figsize=(20, 40))\n",
    "plt.title(\"Topic Dendrogram\")\n",
    "plt.xlabel(\"Distance\")\n",
    "\n",
    "dendrogram(\n",
    "    Z,\n",
    "    orientation=\"left\"\n",
    ")\n",
    "\n",
    "ax = fig.get_axes()[0]\n",
    "topic_ordering = [int(item.get_text()) for item in ax.get_yticklabels()]"
   ]
  },
  {
   "cell_type": "code",
   "execution_count": 15,
   "metadata": {
    "collapsed": true
   },
   "outputs": [],
   "source": [
    "jpam_avg_dist = np.average(jpam_vecs, axis=0)\n",
    "\n",
    "jpart_avg_dist = np.average(jpart_vecs, axis=0)\n",
    "\n",
    "par_avg_dist = np.average(par_vecs, axis=0)"
   ]
  },
  {
   "cell_type": "code",
   "execution_count": 19,
   "metadata": {
    "collapsed": true
   },
   "outputs": [],
   "source": [
    "# Copy\n",
    "f_jpam_avg_dist = jpam_avg_dist.copy()\n",
    "f_jpart_avg_dist = jpart_avg_dist.copy()\n",
    "f_par_avg_dist = par_avg_dist.copy()\n",
    "# Remove\n",
    "f_jpam_avg_dist[noise_topics] = 0\n",
    "f_jpart_avg_dist[noise_topics] = 0\n",
    "f_par_avg_dist[noise_topics] = 0"
   ]
  },
  {
   "cell_type": "code",
   "execution_count": 20,
   "metadata": {
    "collapsed": true
   },
   "outputs": [],
   "source": [
    "top_jpam_topics = argsort(f_jpam_avg_dist, topn=15, reverse=True)\n",
    "top_jpart_topics = argsort(f_jpart_avg_dist, topn=15, reverse=True)\n",
    "top_par_topics = argsort(f_par_avg_dist, topn=15, reverse=True)"
   ]
  },
  {
   "cell_type": "code",
   "execution_count": 51,
   "metadata": {},
   "outputs": [
    {
     "name": "stdout",
     "output_type": "stream",
     "text": [
      "['variable', 'table', 'sample']\n",
      "['child', 'family', 'welfare']\n",
      "['incentive', 'efficiency', 'benefit']\n",
      "['award', 'sustainability', 'environmental']\n",
      "['student', 'grade', 'score']\n",
      "['estimate', 'bias', 'statistical']\n",
      "['employment', 'labor', 'worker']\n",
      "['poverty', 'income', 'poor']\n",
      "['ethic', 'democratic', 'moral']\n",
      "['country', 'global', 'nation']\n",
      "['tax', 'revenue', 'income']\n",
      "['analyst', 'maker', 'criterion']\n",
      "['institutional', 'manager', 'actor']\n",
      "['housing', 'neighborhood', 'urban']\n",
      "['learning', 'culture', 'leadership']\n",
      "['variable', 'table', 'sample']\n",
      "['child', 'family', 'welfare']\n",
      "['incentive', 'efficiency', 'benefit']\n",
      "['award', 'sustainability', 'environmental']\n",
      "['student', 'grade', 'score']\n",
      "['estimate', 'bias', 'statistical']\n",
      "['employment', 'labor', 'worker']\n",
      "['poverty', 'income', 'poor']\n",
      "['ethic', 'democratic', 'moral']\n",
      "['country', 'global', 'nation']\n",
      "['tax', 'revenue', 'income']\n",
      "['analyst', 'maker', 'criterion']\n",
      "['institutional', 'manager', 'actor']\n",
      "['housing', 'neighborhood', 'urban']\n",
      "['learning', 'culture', 'leadership']\n",
      "['ethic', 'democratic', 'moral']\n",
      "['learning', 'culture', 'leadership']\n",
      "['diﬀerent', 'oﬃcials', 'eﬀects']\n",
      "['institutional', 'manager', 'actor']\n",
      "['committee', 'congress', 'commission']\n",
      "['country', 'global', 'nation']\n",
      "['citizen', 'participation', 'democracy']\n",
      "['survey', 'respondent', 'variable']\n",
      "['network', 'collaboration', 'collaborative']\n",
      "['measurement', 'planning', 'strategic']\n",
      "['president', 'executive', 'presidential']\n",
      "['city', 'leadership', 'manager']\n",
      "['affair', 'graduate', 'george']\n",
      "['scholar', 'speciﬁc', 'ﬁeld']\n",
      "['technology', 'internet', 'computer']\n"
     ]
    }
   ],
   "source": [
    "def write_top_topics(fp, top_topics):\n",
    "    for tid in top_topics:\n",
    "        terms = [term for term, score in model.show_topic(tid, topn=3)]\n",
    "        print(terms)\n",
    "        labels = wiki.page_labels(terms, 1)\n",
    "        topic_summary = model.print_topic(tid, topn=3)\n",
    "        w.write(\"\\t%03d : %s : %s\\n\"  % (tid, repr(labels), topic_summary))\n",
    "\n",
    "with open(\"top_topic_summary.txt\", \"w\") as w:\n",
    "    w.write(\"JPAM TOP TOPICS:\\n\")\n",
    "    write_top_topics(w, top_jpam_topics)\n",
    "    w.write(\"\\nJPART TOP TOPICS:\\n\")\n",
    "    write_top_topics(w, top_jpam_topics)\n",
    "    w.write(\"\\nPAR TOP TOPICS:\\n\")\n",
    "    write_top_topics(w, top_par_topics)"
   ]
  },
  {
   "cell_type": "code",
   "execution_count": 32,
   "metadata": {},
   "outputs": [
    {
     "name": "stdout",
     "output_type": "stream",
     "text": [
      "012 : ['Institutional racism'] 0.016*\"institutional\" + 0.007*\"manager\" + 0.006*\"actor\"\n",
      "134 : ['Bureaucratic drift'] 0.032*\"bureaucratic\" + 0.029*\"bureaucracy\" + 0.018*\"principal\"\n",
      "121 : ['Customer satisfaction'] 0.043*\"survey\" + 0.033*\"respondent\" + 0.024*\"variable\"\n",
      "142 : ['Nel Noddings'] 0.018*\"ethic\" + 0.008*\"democratic\" + 0.008*\"moral\"\n",
      "043 : ['Collaborative partnership'] 0.111*\"network\" + 0.032*\"collaboration\" + 0.032*\"collaborative\"\n",
      "086 : ['Leadership'] 0.021*\"learning\" + 0.013*\"culture\" + 0.012*\"leadership\"\n",
      "047 : ['Capital structure'] 0.033*\"manager\" + 0.026*\"managerial\" + 0.024*\"variable\"\n",
      "073 : ['Categorical variable'] 0.043*\"inﬂuence\" + 0.037*\"signiﬁcant\" + 0.027*\"ﬁndings\"\n",
      "030 : ['George Washington University Graduate School of Education and Human Development'] 0.016*\"affair\" + 0.012*\"graduate\" + 0.008*\"george\"\n",
      "037 : ['Sample size determination'] 0.033*\"variable\" + 0.029*\"table\" + 0.020*\"sample\"\n",
      "108 : ['Public service motivation'] 0.054*\"motivation\" + 0.038*\"psm\" + 0.019*\"commitment\"\n",
      "083 : ['Parenthetical referencing'] 0.061*\"title\" + 0.030*\"citation\" + 0.030*\"text\"\n",
      "084 : ['Turnover (employment)'] 0.169*\"employee\" + 0.026*\"turnover\" + 0.026*\"pay\"\n",
      "018 : ['Incentive'] 0.025*\"incentive\" + 0.018*\"efficiency\" + 0.015*\"benefit\"\n",
      "081 : ['Independent contractor'] 0.078*\"contract\" + 0.059*\"contracting\" + 0.027*\"privatization\"\n"
     ]
    }
   ],
   "source": [
    "for tid in top_jpart_topics:\n",
    "    terms = [term for term, score in model.show_topic(tid, topn=5)]\n",
    "    print(\"%03d\" % tid, \":\", wiki.page_labels(terms, 1), model.print_topic(tid, topn=3))"
   ]
  },
  {
   "cell_type": "code",
   "execution_count": 35,
   "metadata": {},
   "outputs": [
    {
     "name": "stdout",
     "output_type": "stream",
     "text": [
      "142 : ['Democratic capitalism', 'Consistent life ethic'] 0.018*\"ethic\" + 0.008*\"democratic\" + 0.008*\"moral\"\n",
      "086 : ['Service-learning', 'Learning organization'] 0.021*\"learning\" + 0.013*\"culture\" + 0.012*\"leadership\"\n",
      "090 : ['Effects-based operations', 'Hurricane Katrina effects by region'] 0.044*\"diﬀerent\" + 0.033*\"oﬃcials\" + 0.027*\"eﬀects\"\n",
      "012 : ['Environmental manager', 'Institutional racism'] 0.016*\"institutional\" + 0.007*\"manager\" + 0.006*\"actor\"\n",
      "077 : [\"Standing Committee of the National People's Congress\", 'United States Congress Joint Committee on Taxation'] 0.023*\"committee\" + 0.019*\"congress\" + 0.016*\"commission\"\n",
      "070 : ['Global Peace Index', 'Island country'] 0.054*\"country\" + 0.020*\"global\" + 0.018*\"nation\"\n",
      "126 : ['Participation (decision making)', 'Participatory democracy'] 0.111*\"citizen\" + 0.066*\"participation\" + 0.021*\"democracy\"\n",
      "121 : ['Survey methodology', 'Survey (human research)'] 0.043*\"survey\" + 0.033*\"respondent\" + 0.024*\"variable\"\n",
      "043 : ['Collaboration', 'Collaborative software'] 0.111*\"network\" + 0.032*\"collaboration\" + 0.032*\"collaborative\"\n",
      "089 : ['Performance measurement', 'Strategic thinking'] 0.039*\"measurement\" + 0.027*\"planning\" + 0.026*\"strategic\"\n",
      "138 : ['Executive Office of the President of the United States', 'Executive president'] 0.068*\"president\" + 0.039*\"executive\" + 0.023*\"presidential\"\n",
      "001 : ['Council–manager government', 'Leadership (newspaper)'] 0.144*\"city\" + 0.090*\"leadership\" + 0.074*\"manager\"\n",
      "030 : ['University of Pittsburgh Graduate School of Public and International Affairs', 'The Graduate School of Political Management'] 0.016*\"affair\" + 0.012*\"graduate\" + 0.008*\"george\"\n",
      "000 : ['Google Scholar', 'Vagelos Scholars Program in Molecular Life Sciences'] 0.062*\"scholar\" + 0.056*\"speciﬁc\" + 0.052*\"ﬁeld\"\n",
      "057 : ['Computer network', 'Information technology'] 0.055*\"technology\" + 0.016*\"internet\" + 0.010*\"computer\"\n"
     ]
    }
   ],
   "source": [
    "for tid in top_par_topics:\n",
    "    terms = [term for term, score in model.show_topic(tid, topn=3)]\n",
    "    print(\"%03d\" % tid, \":\", wiki.page_labels(terms, 2), model.print_topic(tid, topn=3))"
   ]
  },
  {
   "cell_type": "markdown",
   "metadata": {},
   "source": [
    "# Fingerprints"
   ]
  },
  {
   "cell_type": "code",
   "execution_count": 241,
   "metadata": {
    "collapsed": true
   },
   "outputs": [],
   "source": [
    "plt.close('all')"
   ]
  },
  {
   "cell_type": "code",
   "execution_count": 245,
   "metadata": {
    "collapsed": true,
    "scrolled": false
   },
   "outputs": [],
   "source": [
    "fig, (ax1, ax2, ax3) = plt.subplots(1, 3, sharey=True, figsize=(20, 10))\n",
    "y_pos = topic_ordering\n",
    "\n",
    "# Reorder to be more continuous\n",
    "f_jpam_avg_dist = f_jpam_avg_dist[topic_ordering]\n",
    "f_jpart_avg_dist = f_jpart_avg_dist[topic_ordering]\n",
    "f_par_avg_dist = f_par_avg_dist[topic_ordering]\n",
    "\n",
    "ax1.barh(np.arange(150), f_jpam_avg_dist)\n",
    "ax1.set_title(\"JPAM\")\n",
    "ax2.barh(np.arange(150), f_jpart_avg_dist)\n",
    "ax2.set_title(\"JPART\")\n",
    "ax3.barh(np.arange(150), f_par_avg_dist)\n",
    "ax3.set_title(\"PAR\")\n",
    "\n",
    "for ax in (ax1, ax2, ax3):\n",
    "    ax.set_ybound(lower=0, upper=150)\n",
    "    ax.set_xbound(lower=0, upper=0.055)\n",
    "fig.savefig(\"fingerprints_new.png\")"
   ]
  },
  {
   "cell_type": "code",
   "execution_count": 237,
   "metadata": {
    "collapsed": true,
    "scrolled": true
   },
   "outputs": [],
   "source": [
    "fig, ax = plt.subplots(figsize=(30, 15))\n",
    "width = .75\n",
    "N = model.num_topics\n",
    "\n",
    "diff_jpam_par = f_jpam_avg_dist - f_par_avg_dist\n",
    "diff_jpam_jpart = f_jpam_avg_dist - f_jpart_avg_dist\n",
    "\n",
    "mask1 = np.ma.where(diff_jpam_par >= diff_jpam_jpart)\n",
    "mask2 = np.ma.where(diff_jpam_jpart >= diff_jpam_par)\n",
    "\n",
    "\n",
    "ax.bar(np.arange(N)[mask1], diff_jpam_par[mask1], width=width, align=\"edge\", alpha=1, color='darkorange', label=\"JPAM--PAR\")\n",
    "ax.bar(np.arange(N), diff_jpam_jpart, width=width, align=\"edge\", alpha=1, color='b', label=\"JPAM--JPART\")\n",
    "ax.bar(np.arange(N)[mask2], diff_jpam_par[mask2], width=width, align=\"edge\", alpha=1, color='darkorange')\n",
    "\n",
    "x_ticks = ax.set_xticks(np.arange(N))\n",
    "x_tick_labels = ax.set_xticklabels(topic_ordering, rotation=\"vertical\")\n",
    "ax.set_title(\"JPAM TOPICS - PAR/JPART TOPICS\")\n",
    "\n",
    "ax.grid(b=False)\n",
    "ax.legend()\n",
    "\n",
    "fig.savefig(\"topic_diff_new.png\")"
   ]
  },
  {
   "cell_type": "markdown",
   "metadata": {},
   "source": [
    "# Feature Selection"
   ]
  },
  {
   "cell_type": "code",
   "execution_count": 25,
   "metadata": {},
   "outputs": [
    {
     "data": {
      "text/plain": [
       "RandomForestClassifier(bootstrap=True, class_weight=None, criterion='gini',\n",
       "            max_depth=None, max_features=150, max_leaf_nodes=None,\n",
       "            min_impurity_split=1e-07, min_samples_leaf=1,\n",
       "            min_samples_split=2, min_weight_fraction_leaf=0.0,\n",
       "            n_estimators=20, n_jobs=1, oob_score=False, random_state=None,\n",
       "            verbose=0, warm_start=False)"
      ]
     },
     "execution_count": 25,
     "metadata": {},
     "output_type": "execute_result"
    }
   ],
   "source": [
    "journal_names = []\n",
    "for name in all_names:\n",
    "    if \"jpam_texts\" in name:\n",
    "        journal_names.append(\"JPAM\")\n",
    "    if \"jpart_texts\" in name:\n",
    "        journal_names.append(\"JPART\")\n",
    "    if \"par_texts\" in name:\n",
    "        journal_names.append(\"PAR\")\n",
    "        \n",
    "topic_names = [\"Topic %d\" % i for i in range(model.num_topics)]\n",
    "\n",
    "f_all_vecs = np.array(all_vecs).copy()\n",
    "f_all_vecs[:, noise_topics] = 0\n",
    "X = f_all_vecs\n",
    "y = np.array(journal_names)\n",
    "\n",
    "rf = RandomForestClassifier(max_features=150, n_estimators=20)\n",
    "rf.fit(X, y)"
   ]
  },
  {
   "cell_type": "markdown",
   "metadata": {},
   "source": [
    "### Native Feature importances"
   ]
  },
  {
   "cell_type": "code",
   "execution_count": 26,
   "metadata": {
    "collapsed": true
   },
   "outputs": [],
   "source": [
    "feature_importances = sorted(zip(map(lambda x: round(x, 4), rf.feature_importances_), topic_names), reverse=True)"
   ]
  },
  {
   "cell_type": "markdown",
   "metadata": {},
   "source": [
    "### F1 Drop with random permutations"
   ]
  },
  {
   "cell_type": "code",
   "execution_count": 54,
   "metadata": {
    "collapsed": true
   },
   "outputs": [],
   "source": [
    "scores = defaultdict(list)\n",
    "for train_idx, test_idx in ShuffleSplit(len(X), 100, 0.3):\n",
    "    X_train, X_test = X[train_idx], X[test_idx]\n",
    "    y_train, y_test = y[train_idx], y[test_idx]\n",
    "    \n",
    "    r = rf.fit(X_train, y_train)\n",
    "    acc = f1_score(y_test, r.predict(X_test), average='micro')\n",
    "    for i in range(X.shape[1]):\n",
    "        X_t = X_test.copy()\n",
    "        np.random.shuffle(X_t[:, i])\n",
    "        shuffle_acc = f1_score(y_test, r.predict(X_t), average='micro')\n",
    "        scores[topic_names[i]].append((acc-shuffle_acc) / acc)\n",
    "\n",
    "feature_acc_drop = sorted([\n",
    "    (round(np.mean(score), 4), feat)\n",
    "    for feat, score in scores.items()\n",
    "], reverse=True)"
   ]
  },
  {
   "cell_type": "markdown",
   "metadata": {},
   "source": [
    "### Stability Selection"
   ]
  },
  {
   "cell_type": "code",
   "execution_count": 43,
   "metadata": {
    "collapsed": true
   },
   "outputs": [],
   "source": [
    "rlasso = RandomizedLasso(alpha=0.0005)\n",
    "le = LabelEncoder()\n",
    "rlasso.fit(X, le.fit_transform(y))\n",
    "\n",
    "stability_selected = sorted(zip(rlasso.scores_, range(model.num_topics)), reverse=True)"
   ]
  },
  {
   "cell_type": "code",
   "execution_count": 52,
   "metadata": {},
   "outputs": [
    {
     "name": "stdout",
     "output_type": "stream",
     "text": [
      "['ethic', 'democratic', 'moral']\n",
      "['child', 'family', 'welfare']\n",
      "['diﬀerent', 'oﬃcials', 'eﬀects']\n",
      "['learning', 'culture', 'leadership']\n",
      "['variable', 'table', 'sample']\n",
      "['scholar', 'speciﬁc', 'ﬁeld']\n",
      "['committee', 'congress', 'commission']\n",
      "['survey', 'respondent', 'variable']\n",
      "['student', 'curriculum', 'faculty']\n",
      "['employment', 'labor', 'worker']\n"
     ]
    }
   ],
   "source": [
    "most_stable_topics = [tid for score, tid in stability_selected]\n",
    "with open(\"discriminatory_topics.txt\", \"w\") as w:\n",
    "    w.write(\"MOST DISCRIMINATORY TOPICS:\\n\")\n",
    "    write_top_topics(w, most_stable_topics[:10])"
   ]
  },
  {
   "cell_type": "code",
   "execution_count": 53,
   "metadata": {},
   "outputs": [
    {
     "ename": "NameError",
     "evalue": "name 'feature_acc_drop' is not defined",
     "output_type": "error",
     "traceback": [
      "\u001b[0;31m---------------------------------------------------------------------------\u001b[0m",
      "\u001b[0;31mNameError\u001b[0m                                 Traceback (most recent call last)",
      "\u001b[0;32m<ipython-input-53-fa96155e56aa>\u001b[0m in \u001b[0;36m<module>\u001b[0;34m()\u001b[0m\n\u001b[0;32m----> 1\u001b[0;31m \u001b[0mfeature_acc_drop\u001b[0m\u001b[0;34m[\u001b[0m\u001b[0;34m:\u001b[0m\u001b[0;36m10\u001b[0m\u001b[0;34m]\u001b[0m\u001b[0;34m\u001b[0m\u001b[0m\n\u001b[0m",
      "\u001b[0;31mNameError\u001b[0m: name 'feature_acc_drop' is not defined"
     ]
    }
   ],
   "source": [
    "feature_acc_drop[:10]"
   ]
  },
  {
   "cell_type": "code",
   "execution_count": 65,
   "metadata": {},
   "outputs": [
    {
     "data": {
      "text/plain": [
       "[(0.3044, 'Topic 90'),\n",
       " (0.088599999999999998, 'Topic 67'),\n",
       " (0.075800000000000006, 'Topic 73'),\n",
       " (0.043499999999999997, 'Topic 30'),\n",
       " (0.0292, 'Topic 86'),\n",
       " (0.025899999999999999, 'Topic 12'),\n",
       " (0.0253, 'Topic 142'),\n",
       " (0.0241, 'Topic 134'),\n",
       " (0.015100000000000001, 'Topic 83'),\n",
       " (0.013599999999999999, 'Topic 77')]"
      ]
     },
     "execution_count": 65,
     "metadata": {},
     "output_type": "execute_result"
    }
   ],
   "source": [
    "feature_importances[:10]"
   ]
  },
  {
   "cell_type": "code",
   "execution_count": 95,
   "metadata": {},
   "outputs": [
    {
     "data": {
      "text/plain": [
       "'0.061*\"employment\" + 0.060*\"labor\" + 0.050*\"worker\" + 0.039*\"wage\" + 0.017*\"employer\" + 0.012*\"unemployment\" + 0.008*\"skill\" + 0.008*\"credit\" + 0.008*\"hiring\" + 0.007*\"minimum\"'"
      ]
     },
     "execution_count": 95,
     "metadata": {},
     "output_type": "execute_result"
    }
   ],
   "source": [
    "model.print_topic(114)"
   ]
  },
  {
   "cell_type": "markdown",
   "metadata": {},
   "source": [
    "# Random Stuff"
   ]
  },
  {
   "cell_type": "code",
   "execution_count": 111,
   "metadata": {
    "collapsed": true
   },
   "outputs": [],
   "source": [
    "topn=10\n",
    "top_fjpam_topics = argsort(f_jpam_avg_dist, topn=topn, reverse=True)\n",
    "top_fjpart_topics = argsort(f_jpart_avg_dist, topn=topn, reverse=True)\n",
    "top_fpar_topics = argsort(f_par_avg_dist, topn=topn, reverse=True)"
   ]
  },
  {
   "cell_type": "code",
   "execution_count": 112,
   "metadata": {},
   "outputs": [
    {
     "name": "stdout",
     "output_type": "stream",
     "text": [
      "037 : 0.0410403 : 0.033*\"variable\" + 0.029*\"table\" + 0.020*\"sample\" + 0.019*\"estimate\" + 0.018*\"significant\"\n",
      "118 : 0.0406323 : 0.081*\"child\" + 0.050*\"family\" + 0.044*\"welfare\" + 0.017*\"income\" + 0.017*\"parent\"\n",
      "018 : 0.023166 : 0.025*\"incentive\" + 0.018*\"efficiency\" + 0.015*\"benefit\" + 0.013*\"price\" + 0.007*\"output\"\n",
      "034 : 0.020855 : 0.034*\"award\" + 0.027*\"sustainability\" + 0.020*\"environmental\" + 0.014*\"conference\" + 0.014*\"sustainable\"\n",
      "082 : 0.0208324 : 0.100*\"student\" + 0.029*\"grade\" + 0.028*\"score\" + 0.019*\"test\" + 0.019*\"charter\"\n",
      "022 : 0.0183188 : 0.026*\"estimate\" + 0.017*\"bias\" + 0.011*\"statistical\" + 0.011*\"score\" + 0.010*\"comparison\"\n",
      "114 : 0.0177116 : 0.061*\"employment\" + 0.060*\"labor\" + 0.050*\"worker\" + 0.039*\"wage\" + 0.017*\"employer\"\n",
      "092 : 0.0163509 : 0.088*\"poverty\" + 0.055*\"income\" + 0.015*\"poor\" + 0.013*\"inequality\" + 0.010*\"family\"\n",
      "142 : 0.0151084 : 0.018*\"ethic\" + 0.008*\"democratic\" + 0.008*\"moral\" + 0.008*\"administrator\" + 0.008*\"democracy\"\n",
      "070 : 0.0138542 : 0.054*\"country\" + 0.020*\"global\" + 0.018*\"nation\" + 0.011*\"comparative\" + 0.010*\"economy\"\n",
      "\n",
      "--------------------------------------------------------------------------------\n",
      "\n",
      "012 : 0.0428636 : 0.016*\"institutional\" + 0.007*\"manager\" + 0.006*\"actor\" + 0.006*\"theoretical\" + 0.006*\"formal\"\n",
      "134 : 0.0291161 : 0.032*\"bureaucratic\" + 0.029*\"bureaucracy\" + 0.018*\"principal\" + 0.016*\"executive\" + 0.016*\"agent\"\n",
      "121 : 0.0290392 : 0.043*\"survey\" + 0.033*\"respondent\" + 0.024*\"variable\" + 0.016*\"satisfaction\" + 0.013*\"perception\"\n",
      "142 : 0.0252907 : 0.018*\"ethic\" + 0.008*\"democratic\" + 0.008*\"moral\" + 0.008*\"administrator\" + 0.008*\"democracy\"\n",
      "043 : 0.0250118 : 0.111*\"network\" + 0.032*\"collaboration\" + 0.032*\"collaborative\" + 0.018*\"actor\" + 0.014*\"partnership\"\n",
      "086 : 0.0225011 : 0.021*\"learning\" + 0.013*\"culture\" + 0.012*\"leadership\" + 0.010*\"manager\" + 0.009*\"leader\"\n",
      "047 : 0.0209908 : 0.033*\"manager\" + 0.026*\"managerial\" + 0.024*\"variable\" + 0.019*\"external\" + 0.016*\"ambiguity\"\n",
      "073 : 0.0186538 : 0.043*\"inﬂuence\" + 0.037*\"signiﬁcant\" + 0.027*\"ﬁndings\" + 0.023*\"variable\" + 0.021*\"ﬁrst\"\n",
      "030 : 0.0168459 : 0.016*\"affair\" + 0.012*\"graduate\" + 0.008*\"george\" + 0.006*\"pennsylvania\" + 0.005*\"michael\"\n",
      "037 : 0.0154918 : 0.033*\"variable\" + 0.029*\"table\" + 0.020*\"sample\" + 0.019*\"estimate\" + 0.018*\"significant\"\n",
      "\n",
      "--------------------------------------------------------------------------------\n",
      "\n",
      "142 : 0.0511435 : 0.018*\"ethic\" + 0.008*\"democratic\" + 0.008*\"moral\" + 0.008*\"administrator\" + 0.008*\"democracy\"\n",
      "086 : 0.0398338 : 0.021*\"learning\" + 0.013*\"culture\" + 0.012*\"leadership\" + 0.010*\"manager\" + 0.009*\"leader\"\n",
      "090 : 0.0310446 : 0.044*\"diﬀerent\" + 0.033*\"oﬃcials\" + 0.027*\"eﬀects\" + 0.027*\"ﬁrst\" + 0.025*\"oﬃce\"\n",
      "012 : 0.02871 : 0.016*\"institutional\" + 0.007*\"manager\" + 0.006*\"actor\" + 0.006*\"theoretical\" + 0.006*\"formal\"\n",
      "077 : 0.0259706 : 0.023*\"committee\" + 0.019*\"congress\" + 0.016*\"commission\" + 0.013*\"authority\" + 0.010*\"legislative\"\n",
      "070 : 0.0228683 : 0.054*\"country\" + 0.020*\"global\" + 0.018*\"nation\" + 0.011*\"comparative\" + 0.010*\"economy\"\n",
      "126 : 0.0212264 : 0.111*\"citizen\" + 0.066*\"participation\" + 0.021*\"democracy\" + 0.016*\"civic\" + 0.013*\"engagement\"\n",
      "121 : 0.0200004 : 0.043*\"survey\" + 0.033*\"respondent\" + 0.024*\"variable\" + 0.016*\"satisfaction\" + 0.013*\"perception\"\n",
      "043 : 0.0185365 : 0.111*\"network\" + 0.032*\"collaboration\" + 0.032*\"collaborative\" + 0.018*\"actor\" + 0.014*\"partnership\"\n",
      "089 : 0.0157747 : 0.039*\"measurement\" + 0.027*\"planning\" + 0.026*\"strategic\" + 0.016*\"plan\" + 0.013*\"indicator\"\n"
     ]
    }
   ],
   "source": [
    "for tid in top_fjpam_topics:\n",
    "    print(\"%03d\" % tid, \":\", f_jpam_avg_dist[tid], \":\", model.print_topic(tid, topn=5))\n",
    "\n",
    "print()\n",
    "print(\"-\" * 80)\n",
    "print()\n",
    "    \n",
    "for tid in top_fjpart_topics:\n",
    "    print(\"%03d\" % tid, \":\", f_jpart_avg_dist[tid], \":\", model.print_topic(tid, topn=5))\n",
    "    \n",
    "print()\n",
    "print(\"-\" * 80)\n",
    "print()\n",
    "    \n",
    "for tid in top_fpar_topics:\n",
    "    print(\"%03d\" % tid, \":\", f_par_avg_dist[tid], \":\", model.print_topic(tid, topn=5))"
   ]
  },
  {
   "cell_type": "code",
   "execution_count": null,
   "metadata": {
    "collapsed": true
   },
   "outputs": [],
   "source": []
  }
 ],
 "metadata": {
  "kernelspec": {
   "display_name": "Python 3",
   "language": "python",
   "name": "python3"
  },
  "language_info": {
   "codemirror_mode": {
    "name": "ipython",
    "version": 3
   },
   "file_extension": ".py",
   "mimetype": "text/x-python",
   "name": "python",
   "nbconvert_exporter": "python",
   "pygments_lexer": "ipython3",
   "version": "3.6.1"
  }
 },
 "nbformat": 4,
 "nbformat_minor": 2
}
